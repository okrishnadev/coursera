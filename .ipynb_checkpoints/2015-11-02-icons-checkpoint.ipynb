{
 "cells": [
  {
   "cell_type": "code",
   "execution_count": 1,
   "metadata": {
    "collapsed": false
   },
   "outputs": [],
   "source": [
    "name = \"2015-11-02-icons\"\n",
    "title = \"Custom icons in folium\""
   ]
  },
  {
   "cell_type": "code",
   "execution_count": 2,
   "metadata": {
    "collapsed": false
   },
   "outputs": [
    {
     "ename": "IOError",
     "evalue": "[Errno 2] No such file or directory: 'creative_commons.txt'",
     "output_type": "error",
     "traceback": [
      "\u001b[1;31m---------------------------------------------------------------------------\u001b[0m",
      "\u001b[1;31mIOError\u001b[0m                                   Traceback (most recent call last)",
      "\u001b[1;32m<ipython-input-2-614702e9da93>\u001b[0m in \u001b[0;36m<module>\u001b[1;34m()\u001b[0m\n\u001b[0;32m      9\u001b[0m \u001b[1;32mfrom\u001b[0m \u001b[0mIPython\u001b[0m\u001b[1;33m.\u001b[0m\u001b[0mcore\u001b[0m\u001b[1;33m.\u001b[0m\u001b[0mdisplay\u001b[0m \u001b[1;32mimport\u001b[0m \u001b[0mHTML\u001b[0m\u001b[1;33m\u001b[0m\u001b[0m\n\u001b[0;32m     10\u001b[0m \u001b[1;33m\u001b[0m\u001b[0m\n\u001b[1;32m---> 11\u001b[1;33m \u001b[1;32mwith\u001b[0m \u001b[0mopen\u001b[0m\u001b[1;33m(\u001b[0m\u001b[1;34m'creative_commons.txt'\u001b[0m\u001b[1;33m,\u001b[0m \u001b[1;34m'r'\u001b[0m\u001b[1;33m)\u001b[0m \u001b[1;32mas\u001b[0m \u001b[0mf\u001b[0m\u001b[1;33m:\u001b[0m\u001b[1;33m\u001b[0m\u001b[0m\n\u001b[0m\u001b[0;32m     12\u001b[0m     \u001b[0mhtml\u001b[0m \u001b[1;33m=\u001b[0m \u001b[0mf\u001b[0m\u001b[1;33m.\u001b[0m\u001b[0mread\u001b[0m\u001b[1;33m(\u001b[0m\u001b[1;33m)\u001b[0m\u001b[1;33m\u001b[0m\u001b[0m\n\u001b[0;32m     13\u001b[0m \u001b[1;33m\u001b[0m\u001b[0m\n",
      "\u001b[1;31mIOError\u001b[0m: [Errno 2] No such file or directory: 'creative_commons.txt'"
     ]
    }
   ],
   "source": [
    "import warnings\n",
    "warnings.simplefilter(\"ignore\")\n",
    "\n",
    "%matplotlib inline\n",
    "\n",
    "import os\n",
    "from datetime import datetime\n",
    "\n",
    "from IPython.core.display import HTML\n",
    "\n",
    "with open('creative_commons.txt', 'r') as f:\n",
    "    html = f.read()\n",
    "\n",
    "hour = datetime.utcnow().strftime('%H:%M')\n",
    "comments=\"true\"\n",
    "\n",
    "date = '-'.join(name.split('-')[:3])\n",
    "slug = '-'.join(name.split('-')[3:])\n",
    "\n",
    "metadata = dict(title=title,\n",
    "                date=date,\n",
    "                hour=hour,\n",
    "                comments=comments,\n",
    "                slug=slug,\n",
    "                name=name)\n",
    "\n",
    "markdown = \"\"\"Title: {title}\n",
    "date:  {date} {hour}\n",
    "comments: {comments}\n",
    "slug: {slug}\n",
    "\n",
    "{{% notebook {name}.ipynb cells[2:] %}}\n",
    "\"\"\".format(**metadata)\n",
    "\n",
    "content = os.path.abspath(os.path.join(os.getcwd(),\n",
    "                                       os.pardir,\n",
    "                                       os.pardir, \n",
    "                                       '{}.md'.format(name)))\n",
    "\n",
    "with open('{}'.format(content), 'w') as f:\n",
    "    f.writelines(markdown)\n",
    "\n",
    "html = '''\n",
    "<small>\n",
    "<p> This post was written as an IPython notebook.\n",
    " It is available for <a href='https://ocefpaf.github.com/python4oceanographers/downloads/notebooks/%s.ipynb'>download</a>\n",
    " or as a static <a href='https://nbviewer.ipython.org/url/ocefpaf.github.com/python4oceanographers/downloads/notebooks/%s.ipynb'>html</a>.</p>\n",
    "<p></p>\n",
    "%s''' % (name, name, html)"
   ]
  },
  {
   "cell_type": "markdown",
   "metadata": {},
   "source": [
    "We had an interesting problem. How to create a map with [SECOORA's](http://secoora.org/) assets showing all the buoys,\n",
    "gliders, HF-radars, and land stations as an interactive map?\n",
    "\n",
    "To accomplish that we had to use a specific folium [PR](https://github.com/python-visualization/folium/pull/230),\n",
    "that will be part of the next release, with the new custom icon class.\n",
    "This new class allow users to display custom images as icons instead of the default markers.\n",
    "\n",
    "Here is how to do it.  First we instantiate the map:"
   ]
  },
  {
   "cell_type": "code",
   "execution_count": null,
   "metadata": {
    "collapsed": true
   },
   "outputs": [],
   "source": [
    "import folium\n",
    "\n",
    "lon, lat = -86.276, 30.935 \n",
    "zoom_start = 5\n",
    "\n",
    "mapa = folium.Map(location=[lat, lon], tiles=\"Cartodb Positron\",\n",
    "                  zoom_start=zoom_start)"
   ]
  },
  {
   "cell_type": "markdown",
   "metadata": {},
   "source": [
    "In another post I will explain how I created the GeoJSON below.\n",
    "For now it is suffice to say that they hold all the information we need to construct the map."
   ]
  },
  {
   "cell_type": "code",
   "execution_count": null,
   "metadata": {
    "collapsed": false
   },
   "outputs": [],
   "source": [
    "import json\n",
    "\n",
    "with open('data/stations.geojson') as f:\n",
    "    stations = json.load(f)\n",
    "\n",
    "with open('data/hfradar.geojson') as f:\n",
    "    hfradar = json.load(f)"
   ]
  },
  {
   "cell_type": "markdown",
   "metadata": {},
   "source": [
    "The icons URLs, the `popup` message, and the `Point` positions are defined in the GeoJSON.\n",
    "The only information that is not there is the icon size."
   ]
  },
  {
   "cell_type": "code",
   "execution_count": null,
   "metadata": {
    "collapsed": true
   },
   "outputs": [],
   "source": [
    "icon_size = (14, 14)\n",
    "\n",
    "for feature in stations['features']:\n",
    "    lon, lat = feature['geometry']['coordinates']\n",
    "    icon_url = feature['properties']['icon']\n",
    "    popup = feature['properties']['popupcontent']\n",
    "    \n",
    "    icon = folium.features.CustomIcon(icon_url,\n",
    "                                      icon_size=(14, 14))\n",
    "    \n",
    "    marker = folium.map.Marker([lat, lon], icon=icon,\n",
    "                               popup=folium.map.Popup(popup))\n",
    "    mapa.add_children(marker)"
   ]
  },
  {
   "cell_type": "markdown",
   "metadata": {},
   "source": [
    "And now do the same thing, but for the HF-radar GeoJSON.\n",
    "Note that in this case we also have a `Polygon` feature in there.\n",
    "The polygon represents the radar range radius.\n",
    "We are trowing away the polygon styling though.\n",
    "The style information is coded according the [simplestyle-spec](https://github.com/mapbox/simplestyle-spec/).\n",
    "We do [plan to use](https://github.com/python-visualization/folium/issues/120) simplestyle-spec styling options soon."
   ]
  },
  {
   "cell_type": "code",
   "execution_count": null,
   "metadata": {
    "collapsed": false
   },
   "outputs": [],
   "source": [
    "style_function = lambda feature: dict(fillColor='#DEFFDE',\n",
    "                                      color='#AECCAE',\n",
    "                                      weight=1,\n",
    "                                      opacity=1)\n",
    "\n",
    "for feature in hfradar['features']:\n",
    "    if feature['geometry']['type'] == 'Point':\n",
    "        lon, lat = feature['geometry']['coordinates']\n",
    "        icon_url = feature['properties']['icon']\n",
    "        popup = feature['properties']['popupcontent']\n",
    "        \n",
    "        icon = folium.features.CustomIcon(icon_url,\n",
    "                                          icon_size=(14, 14))\n",
    "        marker = folium.Marker([lat, lon], icon=icon,\n",
    "                                   popup=folium.Popup(popup))\n",
    "        mapa.add_children(marker)\n",
    "    elif feature['geometry']['type'] == 'Polygon':\n",
    "        gjson = folium.features.GeoJson(feature, style_function=style_function)\n",
    "        \n",
    "        mapa.add_children(gjson)"
   ]
  },
  {
   "cell_type": "code",
   "execution_count": null,
   "metadata": {
    "collapsed": false
   },
   "outputs": [],
   "source": [
    "mapa\n",
    "="
   ]
  },
  {
   "cell_type": "markdown",
   "metadata": {},
   "source": [
    "Aside from the ugly range polygon that is pretty cool!\n",
    "\n",
    "Special thanks to [Martin Journois](https://github.com/BibMartin) for the awesome [PR](https://github.com/python-visualization/folium/pull/230) that made this possible."
   ]
  },
  {
   "cell_type": "code",
   "execution_count": null,
   "metadata": {
    "collapsed": false
   },
   "outputs": [],
   "source": [
    "HTML(html)"
   ]
  }
 ],
 "metadata": {
  "kernelspec": {
   "display_name": "Python 2",
   "language": "python",
   "name": "python2"
  },
  "language_info": {
   "codemirror_mode": {
    "name": "ipython",
    "version": 2
   },
   "file_extension": ".py",
   "mimetype": "text/x-python",
   "name": "python",
   "nbconvert_exporter": "python",
   "pygments_lexer": "ipython2",
   "version": "2.7.10"
  }
 },
 "nbformat": 4,
 "nbformat_minor": 0
}
